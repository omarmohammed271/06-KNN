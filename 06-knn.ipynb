{
 "cells": [
  {
   "cell_type": "code",
   "execution_count": 1,
   "id": "e04caad6",
   "metadata": {
    "_cell_guid": "b1076dfc-b9ad-4769-8c92-a6c4dae69d19",
    "_uuid": "8f2839f25d086af736a60e9eeb907d3b93b6e0e5",
    "execution": {
     "iopub.execute_input": "2024-06-12T08:22:07.835689Z",
     "iopub.status.busy": "2024-06-12T08:22:07.835257Z",
     "iopub.status.idle": "2024-06-12T08:22:08.882756Z",
     "shell.execute_reply": "2024-06-12T08:22:08.881125Z"
    },
    "papermill": {
     "duration": 1.060837,
     "end_time": "2024-06-12T08:22:08.886481",
     "exception": false,
     "start_time": "2024-06-12T08:22:07.825644",
     "status": "completed"
    },
    "tags": []
   },
   "outputs": [
    {
     "name": "stdout",
     "output_type": "stream",
     "text": [
      "/kaggle/input/t-shirts-sizes/tshirt-sizing.csv\n"
     ]
    }
   ],
   "source": [
    "# This Python 3 environment comes with many helpful analytics libraries installed\n",
    "# It is defined by the kaggle/python Docker image: https://github.com/kaggle/docker-python\n",
    "# For example, here's several helpful packages to load\n",
    "\n",
    "import numpy as np # linear algebra\n",
    "import pandas as pd # data processing, CSV file I/O (e.g. pd.read_csv)\n",
    "\n",
    "# Input data files are available in the read-only \"../input/\" directory\n",
    "# For example, running this (by clicking run or pressing Shift+Enter) will list all files under the input directory\n",
    "\n",
    "import os\n",
    "for dirname, _, filenames in os.walk('/kaggle/input'):\n",
    "    for filename in filenames:\n",
    "        print(os.path.join(dirname, filename))\n",
    "\n",
    "# You can write up to 20GB to the current directory (/kaggle/working/) that gets preserved as output when you create a version using \"Save & Run All\" \n",
    "# You can also write temporary files to /kaggle/temp/, but they won't be saved outside of the current session"
   ]
  },
  {
   "cell_type": "markdown",
   "id": "bcfc0d73",
   "metadata": {
    "papermill": {
     "duration": 0.006985,
     "end_time": "2024-06-12T08:22:08.901415",
     "exception": false,
     "start_time": "2024-06-12T08:22:08.894430",
     "status": "completed"
    },
    "tags": []
   },
   "source": [
    "## Imports Libraries"
   ]
  },
  {
   "cell_type": "code",
   "execution_count": 2,
   "id": "8337d48c",
   "metadata": {
    "execution": {
     "iopub.execute_input": "2024-06-12T08:22:08.918388Z",
     "iopub.status.busy": "2024-06-12T08:22:08.917787Z",
     "iopub.status.idle": "2024-06-12T08:22:11.353873Z",
     "shell.execute_reply": "2024-06-12T08:22:11.352579Z"
    },
    "papermill": {
     "duration": 2.448164,
     "end_time": "2024-06-12T08:22:11.356923",
     "exception": false,
     "start_time": "2024-06-12T08:22:08.908759",
     "status": "completed"
    },
    "tags": []
   },
   "outputs": [],
   "source": [
    "import numpy as np\n",
    "import pandas as pd\n",
    "import matplotlib.pyplot as plt\n",
    "import plotly.express as px\n",
    "\n",
    "from sklearn.model_selection import train_test_split\n",
    "from sklearn.neighbors import KNeighborsClassifier"
   ]
  },
  {
   "cell_type": "markdown",
   "id": "0cfbd1ed",
   "metadata": {
    "papermill": {
     "duration": 0.00696,
     "end_time": "2024-06-12T08:22:11.371430",
     "exception": false,
     "start_time": "2024-06-12T08:22:11.364470",
     "status": "completed"
    },
    "tags": []
   },
   "source": [
    "## Read Data"
   ]
  },
  {
   "cell_type": "code",
   "execution_count": 3,
   "id": "f3a5031b",
   "metadata": {
    "execution": {
     "iopub.execute_input": "2024-06-12T08:22:11.388118Z",
     "iopub.status.busy": "2024-06-12T08:22:11.387589Z",
     "iopub.status.idle": "2024-06-12T08:22:11.420852Z",
     "shell.execute_reply": "2024-06-12T08:22:11.419608Z"
    },
    "papermill": {
     "duration": 0.044762,
     "end_time": "2024-06-12T08:22:11.423533",
     "exception": false,
     "start_time": "2024-06-12T08:22:11.378771",
     "status": "completed"
    },
    "tags": []
   },
   "outputs": [
    {
     "data": {
      "text/html": [
       "<div>\n",
       "<style scoped>\n",
       "    .dataframe tbody tr th:only-of-type {\n",
       "        vertical-align: middle;\n",
       "    }\n",
       "\n",
       "    .dataframe tbody tr th {\n",
       "        vertical-align: top;\n",
       "    }\n",
       "\n",
       "    .dataframe thead th {\n",
       "        text-align: right;\n",
       "    }\n",
       "</style>\n",
       "<table border=\"1\" class=\"dataframe\">\n",
       "  <thead>\n",
       "    <tr style=\"text-align: right;\">\n",
       "      <th></th>\n",
       "      <th>Height (in cms)</th>\n",
       "      <th>Weight (in kgs)</th>\n",
       "      <th>T Shirt Size</th>\n",
       "    </tr>\n",
       "  </thead>\n",
       "  <tbody>\n",
       "    <tr>\n",
       "      <th>0</th>\n",
       "      <td>158</td>\n",
       "      <td>58</td>\n",
       "      <td>S</td>\n",
       "    </tr>\n",
       "    <tr>\n",
       "      <th>1</th>\n",
       "      <td>158</td>\n",
       "      <td>59</td>\n",
       "      <td>S</td>\n",
       "    </tr>\n",
       "    <tr>\n",
       "      <th>2</th>\n",
       "      <td>158</td>\n",
       "      <td>63</td>\n",
       "      <td>S</td>\n",
       "    </tr>\n",
       "    <tr>\n",
       "      <th>3</th>\n",
       "      <td>160</td>\n",
       "      <td>59</td>\n",
       "      <td>S</td>\n",
       "    </tr>\n",
       "    <tr>\n",
       "      <th>4</th>\n",
       "      <td>160</td>\n",
       "      <td>60</td>\n",
       "      <td>S</td>\n",
       "    </tr>\n",
       "    <tr>\n",
       "      <th>5</th>\n",
       "      <td>163</td>\n",
       "      <td>60</td>\n",
       "      <td>S</td>\n",
       "    </tr>\n",
       "    <tr>\n",
       "      <th>6</th>\n",
       "      <td>163</td>\n",
       "      <td>61</td>\n",
       "      <td>S</td>\n",
       "    </tr>\n",
       "    <tr>\n",
       "      <th>7</th>\n",
       "      <td>160</td>\n",
       "      <td>64</td>\n",
       "      <td>L</td>\n",
       "    </tr>\n",
       "    <tr>\n",
       "      <th>8</th>\n",
       "      <td>163</td>\n",
       "      <td>64</td>\n",
       "      <td>L</td>\n",
       "    </tr>\n",
       "    <tr>\n",
       "      <th>9</th>\n",
       "      <td>165</td>\n",
       "      <td>61</td>\n",
       "      <td>L</td>\n",
       "    </tr>\n",
       "  </tbody>\n",
       "</table>\n",
       "</div>"
      ],
      "text/plain": [
       "   Height (in cms)  Weight (in kgs) T Shirt Size\n",
       "0              158               58            S\n",
       "1              158               59            S\n",
       "2              158               63            S\n",
       "3              160               59            S\n",
       "4              160               60            S\n",
       "5              163               60            S\n",
       "6              163               61            S\n",
       "7              160               64            L\n",
       "8              163               64            L\n",
       "9              165               61            L"
      ]
     },
     "execution_count": 3,
     "metadata": {},
     "output_type": "execute_result"
    }
   ],
   "source": [
    "df = pd.read_csv('/kaggle/input/t-shirts-sizes/tshirt-sizing.csv')\n",
    "df.head(10)"
   ]
  },
  {
   "cell_type": "code",
   "execution_count": 4,
   "id": "e7759048",
   "metadata": {
    "execution": {
     "iopub.execute_input": "2024-06-12T08:22:11.440522Z",
     "iopub.status.busy": "2024-06-12T08:22:11.440104Z",
     "iopub.status.idle": "2024-06-12T08:22:11.459408Z",
     "shell.execute_reply": "2024-06-12T08:22:11.458123Z"
    },
    "papermill": {
     "duration": 0.031063,
     "end_time": "2024-06-12T08:22:11.462233",
     "exception": false,
     "start_time": "2024-06-12T08:22:11.431170",
     "status": "completed"
    },
    "tags": []
   },
   "outputs": [
    {
     "data": {
      "text/html": [
       "<div>\n",
       "<style scoped>\n",
       "    .dataframe tbody tr th:only-of-type {\n",
       "        vertical-align: middle;\n",
       "    }\n",
       "\n",
       "    .dataframe tbody tr th {\n",
       "        vertical-align: top;\n",
       "    }\n",
       "\n",
       "    .dataframe thead th {\n",
       "        text-align: right;\n",
       "    }\n",
       "</style>\n",
       "<table border=\"1\" class=\"dataframe\">\n",
       "  <thead>\n",
       "    <tr style=\"text-align: right;\">\n",
       "      <th></th>\n",
       "      <th>Height (in cms)</th>\n",
       "      <th>Weight (in kgs)</th>\n",
       "      <th>T Shirt Size</th>\n",
       "    </tr>\n",
       "  </thead>\n",
       "  <tbody>\n",
       "    <tr>\n",
       "      <th>15</th>\n",
       "      <td>170</td>\n",
       "      <td>63</td>\n",
       "      <td>L</td>\n",
       "    </tr>\n",
       "    <tr>\n",
       "      <th>3</th>\n",
       "      <td>160</td>\n",
       "      <td>59</td>\n",
       "      <td>S</td>\n",
       "    </tr>\n",
       "    <tr>\n",
       "      <th>6</th>\n",
       "      <td>163</td>\n",
       "      <td>61</td>\n",
       "      <td>S</td>\n",
       "    </tr>\n",
       "    <tr>\n",
       "      <th>5</th>\n",
       "      <td>163</td>\n",
       "      <td>60</td>\n",
       "      <td>S</td>\n",
       "    </tr>\n",
       "    <tr>\n",
       "      <th>10</th>\n",
       "      <td>165</td>\n",
       "      <td>62</td>\n",
       "      <td>L</td>\n",
       "    </tr>\n",
       "    <tr>\n",
       "      <th>2</th>\n",
       "      <td>158</td>\n",
       "      <td>63</td>\n",
       "      <td>S</td>\n",
       "    </tr>\n",
       "    <tr>\n",
       "      <th>4</th>\n",
       "      <td>160</td>\n",
       "      <td>60</td>\n",
       "      <td>S</td>\n",
       "    </tr>\n",
       "    <tr>\n",
       "      <th>11</th>\n",
       "      <td>165</td>\n",
       "      <td>65</td>\n",
       "      <td>L</td>\n",
       "    </tr>\n",
       "    <tr>\n",
       "      <th>12</th>\n",
       "      <td>168</td>\n",
       "      <td>62</td>\n",
       "      <td>L</td>\n",
       "    </tr>\n",
       "    <tr>\n",
       "      <th>7</th>\n",
       "      <td>160</td>\n",
       "      <td>64</td>\n",
       "      <td>L</td>\n",
       "    </tr>\n",
       "  </tbody>\n",
       "</table>\n",
       "</div>"
      ],
      "text/plain": [
       "    Height (in cms)  Weight (in kgs) T Shirt Size\n",
       "15              170               63            L\n",
       "3               160               59            S\n",
       "6               163               61            S\n",
       "5               163               60            S\n",
       "10              165               62            L\n",
       "2               158               63            S\n",
       "4               160               60            S\n",
       "11              165               65            L\n",
       "12              168               62            L\n",
       "7               160               64            L"
      ]
     },
     "execution_count": 4,
     "metadata": {},
     "output_type": "execute_result"
    }
   ],
   "source": [
    "df.sample(10)"
   ]
  },
  {
   "cell_type": "markdown",
   "id": "9f4a08aa",
   "metadata": {
    "papermill": {
     "duration": 0.00739,
     "end_time": "2024-06-12T08:22:11.477793",
     "exception": false,
     "start_time": "2024-06-12T08:22:11.470403",
     "status": "completed"
    },
    "tags": []
   },
   "source": [
    "## Assign X,Y"
   ]
  },
  {
   "cell_type": "code",
   "execution_count": 5,
   "id": "f0a301cb",
   "metadata": {
    "execution": {
     "iopub.execute_input": "2024-06-12T08:22:11.495941Z",
     "iopub.status.busy": "2024-06-12T08:22:11.494870Z",
     "iopub.status.idle": "2024-06-12T08:22:11.502508Z",
     "shell.execute_reply": "2024-06-12T08:22:11.501416Z"
    },
    "papermill": {
     "duration": 0.019701,
     "end_time": "2024-06-12T08:22:11.505318",
     "exception": false,
     "start_time": "2024-06-12T08:22:11.485617",
     "status": "completed"
    },
    "tags": []
   },
   "outputs": [],
   "source": [
    "x = df.iloc[:,0:2]\n",
    "y = df.iloc[:,2]\n"
   ]
  },
  {
   "cell_type": "code",
   "execution_count": 6,
   "id": "29ea8c65",
   "metadata": {
    "execution": {
     "iopub.execute_input": "2024-06-12T08:22:11.522760Z",
     "iopub.status.busy": "2024-06-12T08:22:11.522357Z",
     "iopub.status.idle": "2024-06-12T08:22:11.533697Z",
     "shell.execute_reply": "2024-06-12T08:22:11.532640Z"
    },
    "papermill": {
     "duration": 0.023052,
     "end_time": "2024-06-12T08:22:11.536263",
     "exception": false,
     "start_time": "2024-06-12T08:22:11.513211",
     "status": "completed"
    },
    "tags": []
   },
   "outputs": [
    {
     "data": {
      "text/html": [
       "<div>\n",
       "<style scoped>\n",
       "    .dataframe tbody tr th:only-of-type {\n",
       "        vertical-align: middle;\n",
       "    }\n",
       "\n",
       "    .dataframe tbody tr th {\n",
       "        vertical-align: top;\n",
       "    }\n",
       "\n",
       "    .dataframe thead th {\n",
       "        text-align: right;\n",
       "    }\n",
       "</style>\n",
       "<table border=\"1\" class=\"dataframe\">\n",
       "  <thead>\n",
       "    <tr style=\"text-align: right;\">\n",
       "      <th></th>\n",
       "      <th>Height (in cms)</th>\n",
       "      <th>Weight (in kgs)</th>\n",
       "    </tr>\n",
       "  </thead>\n",
       "  <tbody>\n",
       "    <tr>\n",
       "      <th>0</th>\n",
       "      <td>158</td>\n",
       "      <td>58</td>\n",
       "    </tr>\n",
       "    <tr>\n",
       "      <th>1</th>\n",
       "      <td>158</td>\n",
       "      <td>59</td>\n",
       "    </tr>\n",
       "    <tr>\n",
       "      <th>2</th>\n",
       "      <td>158</td>\n",
       "      <td>63</td>\n",
       "    </tr>\n",
       "    <tr>\n",
       "      <th>3</th>\n",
       "      <td>160</td>\n",
       "      <td>59</td>\n",
       "    </tr>\n",
       "    <tr>\n",
       "      <th>4</th>\n",
       "      <td>160</td>\n",
       "      <td>60</td>\n",
       "    </tr>\n",
       "    <tr>\n",
       "      <th>5</th>\n",
       "      <td>163</td>\n",
       "      <td>60</td>\n",
       "    </tr>\n",
       "    <tr>\n",
       "      <th>6</th>\n",
       "      <td>163</td>\n",
       "      <td>61</td>\n",
       "    </tr>\n",
       "    <tr>\n",
       "      <th>7</th>\n",
       "      <td>160</td>\n",
       "      <td>64</td>\n",
       "    </tr>\n",
       "    <tr>\n",
       "      <th>8</th>\n",
       "      <td>163</td>\n",
       "      <td>64</td>\n",
       "    </tr>\n",
       "    <tr>\n",
       "      <th>9</th>\n",
       "      <td>165</td>\n",
       "      <td>61</td>\n",
       "    </tr>\n",
       "    <tr>\n",
       "      <th>10</th>\n",
       "      <td>165</td>\n",
       "      <td>62</td>\n",
       "    </tr>\n",
       "    <tr>\n",
       "      <th>11</th>\n",
       "      <td>165</td>\n",
       "      <td>65</td>\n",
       "    </tr>\n",
       "    <tr>\n",
       "      <th>12</th>\n",
       "      <td>168</td>\n",
       "      <td>62</td>\n",
       "    </tr>\n",
       "    <tr>\n",
       "      <th>13</th>\n",
       "      <td>168</td>\n",
       "      <td>63</td>\n",
       "    </tr>\n",
       "    <tr>\n",
       "      <th>14</th>\n",
       "      <td>168</td>\n",
       "      <td>66</td>\n",
       "    </tr>\n",
       "    <tr>\n",
       "      <th>15</th>\n",
       "      <td>170</td>\n",
       "      <td>63</td>\n",
       "    </tr>\n",
       "    <tr>\n",
       "      <th>16</th>\n",
       "      <td>170</td>\n",
       "      <td>64</td>\n",
       "    </tr>\n",
       "    <tr>\n",
       "      <th>17</th>\n",
       "      <td>170</td>\n",
       "      <td>68</td>\n",
       "    </tr>\n",
       "  </tbody>\n",
       "</table>\n",
       "</div>"
      ],
      "text/plain": [
       "    Height (in cms)  Weight (in kgs)\n",
       "0               158               58\n",
       "1               158               59\n",
       "2               158               63\n",
       "3               160               59\n",
       "4               160               60\n",
       "5               163               60\n",
       "6               163               61\n",
       "7               160               64\n",
       "8               163               64\n",
       "9               165               61\n",
       "10              165               62\n",
       "11              165               65\n",
       "12              168               62\n",
       "13              168               63\n",
       "14              168               66\n",
       "15              170               63\n",
       "16              170               64\n",
       "17              170               68"
      ]
     },
     "execution_count": 6,
     "metadata": {},
     "output_type": "execute_result"
    }
   ],
   "source": [
    "x"
   ]
  },
  {
   "cell_type": "code",
   "execution_count": 7,
   "id": "2641e958",
   "metadata": {
    "execution": {
     "iopub.execute_input": "2024-06-12T08:22:11.554419Z",
     "iopub.status.busy": "2024-06-12T08:22:11.553973Z",
     "iopub.status.idle": "2024-06-12T08:22:11.562274Z",
     "shell.execute_reply": "2024-06-12T08:22:11.561139Z"
    },
    "papermill": {
     "duration": 0.020274,
     "end_time": "2024-06-12T08:22:11.564687",
     "exception": false,
     "start_time": "2024-06-12T08:22:11.544413",
     "status": "completed"
    },
    "tags": []
   },
   "outputs": [
    {
     "data": {
      "text/plain": [
       "0     S\n",
       "1     S\n",
       "2     S\n",
       "3     S\n",
       "4     S\n",
       "5     S\n",
       "6     S\n",
       "7     L\n",
       "8     L\n",
       "9     L\n",
       "10    L\n",
       "11    L\n",
       "12    L\n",
       "13    L\n",
       "14    L\n",
       "15    L\n",
       "16    L\n",
       "17    L\n",
       "Name: T Shirt Size, dtype: object"
      ]
     },
     "execution_count": 7,
     "metadata": {},
     "output_type": "execute_result"
    }
   ],
   "source": [
    "y"
   ]
  },
  {
   "cell_type": "markdown",
   "id": "588ed3aa",
   "metadata": {
    "papermill": {
     "duration": 0.007959,
     "end_time": "2024-06-12T08:22:11.580844",
     "exception": false,
     "start_time": "2024-06-12T08:22:11.572885",
     "status": "completed"
    },
    "tags": []
   },
   "source": [
    "## encoding"
   ]
  },
  {
   "cell_type": "code",
   "execution_count": 8,
   "id": "5079f16b",
   "metadata": {
    "execution": {
     "iopub.execute_input": "2024-06-12T08:22:11.598945Z",
     "iopub.status.busy": "2024-06-12T08:22:11.598550Z",
     "iopub.status.idle": "2024-06-12T08:22:11.606528Z",
     "shell.execute_reply": "2024-06-12T08:22:11.605429Z"
    },
    "papermill": {
     "duration": 0.020054,
     "end_time": "2024-06-12T08:22:11.609152",
     "exception": false,
     "start_time": "2024-06-12T08:22:11.589098",
     "status": "completed"
    },
    "tags": []
   },
   "outputs": [
    {
     "data": {
      "text/plain": [
       "array([1, 1, 1, 1, 1, 1, 1, 0, 0, 0, 0, 0, 0, 0, 0, 0, 0, 0])"
      ]
     },
     "execution_count": 8,
     "metadata": {},
     "output_type": "execute_result"
    }
   ],
   "source": [
    "from sklearn.preprocessing import LabelEncoder\n",
    "\n",
    "encode = LabelEncoder()\n",
    "y = encode.fit_transform(y) \n",
    "y"
   ]
  },
  {
   "cell_type": "markdown",
   "id": "69def63c",
   "metadata": {
    "papermill": {
     "duration": 0.00803,
     "end_time": "2024-06-12T08:22:11.625562",
     "exception": false,
     "start_time": "2024-06-12T08:22:11.617532",
     "status": "completed"
    },
    "tags": []
   },
   "source": [
    "## data split"
   ]
  },
  {
   "cell_type": "code",
   "execution_count": 9,
   "id": "c2554878",
   "metadata": {
    "execution": {
     "iopub.execute_input": "2024-06-12T08:22:11.644090Z",
     "iopub.status.busy": "2024-06-12T08:22:11.643674Z",
     "iopub.status.idle": "2024-06-12T08:22:11.650244Z",
     "shell.execute_reply": "2024-06-12T08:22:11.649218Z"
    },
    "papermill": {
     "duration": 0.018604,
     "end_time": "2024-06-12T08:22:11.652656",
     "exception": false,
     "start_time": "2024-06-12T08:22:11.634052",
     "status": "completed"
    },
    "tags": []
   },
   "outputs": [],
   "source": [
    "X_train , X_test , y_train , y_test = train_test_split(x,y,test_size=.20)"
   ]
  },
  {
   "cell_type": "code",
   "execution_count": 10,
   "id": "e13fa9f8",
   "metadata": {
    "execution": {
     "iopub.execute_input": "2024-06-12T08:22:11.671212Z",
     "iopub.status.busy": "2024-06-12T08:22:11.670800Z",
     "iopub.status.idle": "2024-06-12T08:22:11.686167Z",
     "shell.execute_reply": "2024-06-12T08:22:11.684982Z"
    },
    "papermill": {
     "duration": 0.027804,
     "end_time": "2024-06-12T08:22:11.688939",
     "exception": false,
     "start_time": "2024-06-12T08:22:11.661135",
     "status": "completed"
    },
    "tags": []
   },
   "outputs": [
    {
     "data": {
      "text/html": [
       "<style>#sk-container-id-1 {color: black;background-color: white;}#sk-container-id-1 pre{padding: 0;}#sk-container-id-1 div.sk-toggleable {background-color: white;}#sk-container-id-1 label.sk-toggleable__label {cursor: pointer;display: block;width: 100%;margin-bottom: 0;padding: 0.3em;box-sizing: border-box;text-align: center;}#sk-container-id-1 label.sk-toggleable__label-arrow:before {content: \"▸\";float: left;margin-right: 0.25em;color: #696969;}#sk-container-id-1 label.sk-toggleable__label-arrow:hover:before {color: black;}#sk-container-id-1 div.sk-estimator:hover label.sk-toggleable__label-arrow:before {color: black;}#sk-container-id-1 div.sk-toggleable__content {max-height: 0;max-width: 0;overflow: hidden;text-align: left;background-color: #f0f8ff;}#sk-container-id-1 div.sk-toggleable__content pre {margin: 0.2em;color: black;border-radius: 0.25em;background-color: #f0f8ff;}#sk-container-id-1 input.sk-toggleable__control:checked~div.sk-toggleable__content {max-height: 200px;max-width: 100%;overflow: auto;}#sk-container-id-1 input.sk-toggleable__control:checked~label.sk-toggleable__label-arrow:before {content: \"▾\";}#sk-container-id-1 div.sk-estimator input.sk-toggleable__control:checked~label.sk-toggleable__label {background-color: #d4ebff;}#sk-container-id-1 div.sk-label input.sk-toggleable__control:checked~label.sk-toggleable__label {background-color: #d4ebff;}#sk-container-id-1 input.sk-hidden--visually {border: 0;clip: rect(1px 1px 1px 1px);clip: rect(1px, 1px, 1px, 1px);height: 1px;margin: -1px;overflow: hidden;padding: 0;position: absolute;width: 1px;}#sk-container-id-1 div.sk-estimator {font-family: monospace;background-color: #f0f8ff;border: 1px dotted black;border-radius: 0.25em;box-sizing: border-box;margin-bottom: 0.5em;}#sk-container-id-1 div.sk-estimator:hover {background-color: #d4ebff;}#sk-container-id-1 div.sk-parallel-item::after {content: \"\";width: 100%;border-bottom: 1px solid gray;flex-grow: 1;}#sk-container-id-1 div.sk-label:hover label.sk-toggleable__label {background-color: #d4ebff;}#sk-container-id-1 div.sk-serial::before {content: \"\";position: absolute;border-left: 1px solid gray;box-sizing: border-box;top: 0;bottom: 0;left: 50%;z-index: 0;}#sk-container-id-1 div.sk-serial {display: flex;flex-direction: column;align-items: center;background-color: white;padding-right: 0.2em;padding-left: 0.2em;position: relative;}#sk-container-id-1 div.sk-item {position: relative;z-index: 1;}#sk-container-id-1 div.sk-parallel {display: flex;align-items: stretch;justify-content: center;background-color: white;position: relative;}#sk-container-id-1 div.sk-item::before, #sk-container-id-1 div.sk-parallel-item::before {content: \"\";position: absolute;border-left: 1px solid gray;box-sizing: border-box;top: 0;bottom: 0;left: 50%;z-index: -1;}#sk-container-id-1 div.sk-parallel-item {display: flex;flex-direction: column;z-index: 1;position: relative;background-color: white;}#sk-container-id-1 div.sk-parallel-item:first-child::after {align-self: flex-end;width: 50%;}#sk-container-id-1 div.sk-parallel-item:last-child::after {align-self: flex-start;width: 50%;}#sk-container-id-1 div.sk-parallel-item:only-child::after {width: 0;}#sk-container-id-1 div.sk-dashed-wrapped {border: 1px dashed gray;margin: 0 0.4em 0.5em 0.4em;box-sizing: border-box;padding-bottom: 0.4em;background-color: white;}#sk-container-id-1 div.sk-label label {font-family: monospace;font-weight: bold;display: inline-block;line-height: 1.2em;}#sk-container-id-1 div.sk-label-container {text-align: center;}#sk-container-id-1 div.sk-container {/* jupyter's `normalize.less` sets `[hidden] { display: none; }` but bootstrap.min.css set `[hidden] { display: none !important; }` so we also need the `!important` here to be able to override the default hidden behavior on the sphinx rendered scikit-learn.org. See: https://github.com/scikit-learn/scikit-learn/issues/21755 */display: inline-block !important;position: relative;}#sk-container-id-1 div.sk-text-repr-fallback {display: none;}</style><div id=\"sk-container-id-1\" class=\"sk-top-container\"><div class=\"sk-text-repr-fallback\"><pre>KNeighborsClassifier()</pre><b>In a Jupyter environment, please rerun this cell to show the HTML representation or trust the notebook. <br />On GitHub, the HTML representation is unable to render, please try loading this page with nbviewer.org.</b></div><div class=\"sk-container\" hidden><div class=\"sk-item\"><div class=\"sk-estimator sk-toggleable\"><input class=\"sk-toggleable__control sk-hidden--visually\" id=\"sk-estimator-id-1\" type=\"checkbox\" checked><label for=\"sk-estimator-id-1\" class=\"sk-toggleable__label sk-toggleable__label-arrow\">KNeighborsClassifier</label><div class=\"sk-toggleable__content\"><pre>KNeighborsClassifier()</pre></div></div></div></div></div>"
      ],
      "text/plain": [
       "KNeighborsClassifier()"
      ]
     },
     "execution_count": 10,
     "metadata": {},
     "output_type": "execute_result"
    }
   ],
   "source": [
    "model = KNeighborsClassifier(n_neighbors=5)\n",
    "model.fit(X_train , y_train)"
   ]
  },
  {
   "cell_type": "code",
   "execution_count": 11,
   "id": "43c13122",
   "metadata": {
    "execution": {
     "iopub.execute_input": "2024-06-12T08:22:11.709118Z",
     "iopub.status.busy": "2024-06-12T08:22:11.708701Z",
     "iopub.status.idle": "2024-06-12T08:22:11.722544Z",
     "shell.execute_reply": "2024-06-12T08:22:11.721348Z"
    },
    "papermill": {
     "duration": 0.027711,
     "end_time": "2024-06-12T08:22:11.725482",
     "exception": false,
     "start_time": "2024-06-12T08:22:11.697771",
     "status": "completed"
    },
    "tags": []
   },
   "outputs": [
    {
     "data": {
      "text/plain": [
       "array([1, 0, 0, 0])"
      ]
     },
     "execution_count": 11,
     "metadata": {},
     "output_type": "execute_result"
    }
   ],
   "source": [
    "y_pred = model.predict(X_test)\n",
    "y_pred"
   ]
  },
  {
   "cell_type": "code",
   "execution_count": 12,
   "id": "26bd4f25",
   "metadata": {
    "execution": {
     "iopub.execute_input": "2024-06-12T08:22:11.745161Z",
     "iopub.status.busy": "2024-06-12T08:22:11.744747Z",
     "iopub.status.idle": "2024-06-12T08:22:11.752331Z",
     "shell.execute_reply": "2024-06-12T08:22:11.751231Z"
    },
    "papermill": {
     "duration": 0.020575,
     "end_time": "2024-06-12T08:22:11.755007",
     "exception": false,
     "start_time": "2024-06-12T08:22:11.734432",
     "status": "completed"
    },
    "tags": []
   },
   "outputs": [
    {
     "data": {
      "text/plain": [
       "array([1, 0, 0, 0])"
      ]
     },
     "execution_count": 12,
     "metadata": {},
     "output_type": "execute_result"
    }
   ],
   "source": [
    "y_test"
   ]
  },
  {
   "cell_type": "markdown",
   "id": "e431849d",
   "metadata": {
    "papermill": {
     "duration": 0.008974,
     "end_time": "2024-06-12T08:22:11.773133",
     "exception": false,
     "start_time": "2024-06-12T08:22:11.764159",
     "status": "completed"
    },
    "tags": []
   },
   "source": [
    "## Acuracy score between y_test and y_pred"
   ]
  },
  {
   "cell_type": "code",
   "execution_count": 13,
   "id": "bd08c952",
   "metadata": {
    "execution": {
     "iopub.execute_input": "2024-06-12T08:22:11.794005Z",
     "iopub.status.busy": "2024-06-12T08:22:11.793594Z",
     "iopub.status.idle": "2024-06-12T08:22:11.803409Z",
     "shell.execute_reply": "2024-06-12T08:22:11.801845Z"
    },
    "papermill": {
     "duration": 0.023125,
     "end_time": "2024-06-12T08:22:11.806208",
     "exception": false,
     "start_time": "2024-06-12T08:22:11.783083",
     "status": "completed"
    },
    "tags": []
   },
   "outputs": [
    {
     "data": {
      "text/plain": [
       "1.0"
      ]
     },
     "execution_count": 13,
     "metadata": {},
     "output_type": "execute_result"
    }
   ],
   "source": [
    "from sklearn.metrics import accuracy_score\n",
    "\n",
    "accuracy_score(y_test , y_pred)"
   ]
  },
  {
   "cell_type": "markdown",
   "id": "76226834",
   "metadata": {
    "papermill": {
     "duration": 0.009275,
     "end_time": "2024-06-12T08:22:11.824751",
     "exception": false,
     "start_time": "2024-06-12T08:22:11.815476",
     "status": "completed"
    },
    "tags": []
   },
   "source": [
    "## Test Errors"
   ]
  },
  {
   "cell_type": "code",
   "execution_count": 14,
   "id": "3d812b3d",
   "metadata": {
    "execution": {
     "iopub.execute_input": "2024-06-12T08:22:11.846145Z",
     "iopub.status.busy": "2024-06-12T08:22:11.845712Z",
     "iopub.status.idle": "2024-06-12T08:22:11.908257Z",
     "shell.execute_reply": "2024-06-12T08:22:11.907107Z"
    },
    "papermill": {
     "duration": 0.075818,
     "end_time": "2024-06-12T08:22:11.910594",
     "exception": false,
     "start_time": "2024-06-12T08:22:11.834776",
     "status": "completed"
    },
    "tags": []
   },
   "outputs": [
    {
     "data": {
      "text/plain": [
       "[0.0, 0.0, 0.0, 0.0, 0.0, 0.0, 0.0, 0.0, 0.0]"
      ]
     },
     "execution_count": 14,
     "metadata": {},
     "output_type": "execute_result"
    }
   ],
   "source": [
    "test_errors = []\n",
    "\n",
    "for k in range(1,10):\n",
    "    model = KNeighborsClassifier(n_neighbors=k)\n",
    "    model.fit(X_train , y_train)\n",
    "    \n",
    "\n",
    "    y_pred_test = model.predict(X_test)\n",
    "    error = 1- accuracy_score(y_test , y_pred_test)\n",
    "    test_errors.append(error)\n",
    "\n",
    "test_errors"
   ]
  },
  {
   "cell_type": "markdown",
   "id": "ab798f0c",
   "metadata": {
    "papermill": {
     "duration": 0.009308,
     "end_time": "2024-06-12T08:22:11.929132",
     "exception": false,
     "start_time": "2024-06-12T08:22:11.919824",
     "status": "completed"
    },
    "tags": []
   },
   "source": [
    "## note when K=7 it will be best accuracy"
   ]
  }
 ],
 "metadata": {
  "kaggle": {
   "accelerator": "none",
   "dataSources": [
    {
     "datasetId": 5197180,
     "sourceId": 8671756,
     "sourceType": "datasetVersion"
    }
   ],
   "dockerImageVersionId": 30732,
   "isGpuEnabled": false,
   "isInternetEnabled": true,
   "language": "python",
   "sourceType": "notebook"
  },
  "kernelspec": {
   "display_name": "Python 3",
   "language": "python",
   "name": "python3"
  },
  "language_info": {
   "codemirror_mode": {
    "name": "ipython",
    "version": 3
   },
   "file_extension": ".py",
   "mimetype": "text/x-python",
   "name": "python",
   "nbconvert_exporter": "python",
   "pygments_lexer": "ipython3",
   "version": "3.10.13"
  },
  "papermill": {
   "default_parameters": {},
   "duration": 8.086036,
   "end_time": "2024-06-12T08:22:12.661645",
   "environment_variables": {},
   "exception": null,
   "input_path": "__notebook__.ipynb",
   "output_path": "__notebook__.ipynb",
   "parameters": {},
   "start_time": "2024-06-12T08:22:04.575609",
   "version": "2.5.0"
  }
 },
 "nbformat": 4,
 "nbformat_minor": 5
}
